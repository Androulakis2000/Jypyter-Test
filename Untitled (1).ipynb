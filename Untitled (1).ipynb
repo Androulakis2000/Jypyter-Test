{
 "cells": [
  {
   "cell_type": "markdown",
   "id": "0aeba6a0-6e13-42d0-8ca2-cc4c11231447",
   "metadata": {},
   "source": [
    "<h1>My Jupyter Notebook on IBM Watson Studio<h1>"
   ]
  },
  {
   "cell_type": "markdown",
   "id": "f7f0b808-ecc7-46c4-8425-335308712a68",
   "metadata": {},
   "source": [
    "<b>Konstantinos Androulakis</b>\n",
    "\n",
    "Financial Analyst - Data scientist "
   ]
  },
  {
   "cell_type": "markdown",
   "id": "0efe7770-38d4-416a-841e-cfa74c054f45",
   "metadata": {},
   "source": [
    "*\"I am interested in data science because i beleve that this science could change the world.In the near future alla the academic jobs will require some knowledge of data science. Personally i am intresting for financial data science making predictions for invstments, optimazing the best portofolio perfomance or giving the best financial desicions.\"*\n"
   ]
  },
  {
   "cell_type": "markdown",
   "id": "0dd22c8c-624c-4f70-a819-b664c9ebbdc7",
   "metadata": {},
   "source": [
    "<h3> Below i am going to do a very simple sum between 2 numbers <h3>"
   ]
  },
  {
   "cell_type": "code",
   "execution_count": 4,
   "id": "fe76a275-6297-497b-9f5a-e0bf75c21cd0",
   "metadata": {},
   "outputs": [
    {
     "data": {
      "text/plain": [
       "13"
      ]
     },
     "execution_count": 4,
     "metadata": {},
     "output_type": "execute_result"
    }
   ],
   "source": [
    "# simple sum \n",
    "5+8\n"
   ]
  },
  {
   "cell_type": "markdown",
   "id": "00497926-05cc-4a88-a080-93ef84d23ded",
   "metadata": {},
   "source": [
    "---\n",
    "~~Gooooooooood.~~\n",
    "\n",
    "| Syntax      | Description |\n",
    "| ----------- | ----------- |\n",
    "| Header      | Title       |\n",
    "| Paragraph   | Text        |\n"
   ]
  },
  {
   "cell_type": "code",
   "execution_count": null,
   "id": "96168ea9-190d-442b-96f1-ea00272852c7",
   "metadata": {},
   "outputs": [],
   "source": []
  }
 ],
 "metadata": {
  "kernelspec": {
   "display_name": "Python 3 (ipykernel)",
   "language": "python",
   "name": "python3"
  },
  "language_info": {
   "codemirror_mode": {
    "name": "ipython",
    "version": 3
   },
   "file_extension": ".py",
   "mimetype": "text/x-python",
   "name": "python",
   "nbconvert_exporter": "python",
   "pygments_lexer": "ipython3",
   "version": "3.9.13"
  }
 },
 "nbformat": 4,
 "nbformat_minor": 5
}
